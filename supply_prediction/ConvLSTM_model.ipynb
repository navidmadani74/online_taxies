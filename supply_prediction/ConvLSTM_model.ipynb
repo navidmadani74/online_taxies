{
 "cells": [
  {
   "cell_type": "code",
   "execution_count": 27,
   "metadata": {},
   "outputs": [
    {
     "name": "stdout",
     "output_type": "stream",
     "text": [
      "raw dataset shape: (17006, 30, 40, 1)\n"
     ]
    }
   ],
   "source": [
    "import tensorflow as tf\n",
    "import numpy as np\n",
    "import pickle\n",
    "\n",
    "with open('../data/conv_lstm_sequence_data.pc', 'rb') as f:\n",
    "    raw_data = pickle.load(f)\n",
    "raw_data = np.expand_dims(raw_data, axis=-1)\n",
    "print(\"raw dataset shape: {}\".format(raw_data.shape))"
   ]
  },
  {
   "cell_type": "code",
   "execution_count": 28,
   "metadata": {},
   "outputs": [],
   "source": [
    "### THESE CODES ARE MEANT FOR TF2"
   ]
  },
  {
   "cell_type": "code",
   "execution_count": 29,
   "metadata": {},
   "outputs": [
    {
     "name": "stdout",
     "output_type": "stream",
     "text": [
      "train, test shapes: (15000, 30, 40, 1)-(2006, 30, 40, 1)\n"
     ]
    }
   ],
   "source": [
    "train, test = raw_data[:15000], raw_data[15000:]\n",
    "print(\"train, test shapes: {}-{}\".format(train.shape, test.shape))"
   ]
  },
  {
   "cell_type": "code",
   "execution_count": null,
   "metadata": {},
   "outputs": [],
   "source": [
    "from tensorflow.data import Dataset\n",
    "\n",
    "seq_len = 18 # it's 1 hour and a half\n",
    "batch_size = 10\n",
    "\n",
    "train_ds = Dataset.from_tensor_slices(train)\n",
    "test_ds = Dataset.from_tensor_slices(test)\n",
    "\n",
    "test_seq = train_ds.batch(seq_len+1, drop_remainder=True)\n",
    "sequences = train_ds.batch(seq_len+1, drop_remainder=True)\n",
    "\n",
    "test_ds = test_seq.map(lambda x: (x[:-1], x[1:]))\n",
    "test_ds = test_ds.batch(batch_size, drop_remainder=True)\n",
    "ds = sequences.map(lambda x: (x[:-1], x[1:]))\n",
    "ds = ds.shuffle(10000).batch(batch_size, drop_remainder=True)"
   ]
  },
  {
   "cell_type": "code",
   "execution_count": null,
   "metadata": {},
   "outputs": [],
   "source": [
    "ds"
   ]
  },
  {
   "cell_type": "code",
   "execution_count": null,
   "metadata": {},
   "outputs": [],
   "source": [
    "from tensorflow.keras.models import Sequential\n",
    "\n",
    "model = Sequential([\n",
    "    tf.keras.layers.ConvLSTM2D(filters=20, kernel_size=(3,3), padding='same', input_shape=(None, 30, 40, 1), return_sequences=True),\n",
    "    tf.keras.layers.BatchNormalization(),\n",
    "    tf.keras.layers.ConvLSTM2D(filters=20, kernel_size=(3,3), padding='same', return_sequences=True),\n",
    "    tf.keras.layers.BatchNormalization(),\n",
    "    tf.keras.layers.Conv3D(filters=1, kernel_size=(3,3,3), activation='sigmoid', padding='same')\n",
    "])\n",
    "\n",
    "model.compile(loss='mse', optimizer='adam')\n",
    "model.summary()"
   ]
  },
  {
   "cell_type": "code",
   "execution_count": null,
   "metadata": {},
   "outputs": [],
   "source": [
    "model.fit(ds, epochs=5, validation_data=test_ds)"
   ]
  },
  {
   "cell_type": "code",
   "execution_count": 26,
   "metadata": {},
   "outputs": [
    {
     "name": "stdout",
     "output_type": "stream",
     "text": [
      "78/78 [==============================] - 52s 661ms/step - loss: 0.3015\n"
     ]
    },
    {
     "data": {
      "text/plain": [
       "0.3014840982281245"
      ]
     },
     "execution_count": 26,
     "metadata": {},
     "output_type": "execute_result"
    }
   ],
   "source": [
    "model.evaluate(test_ds)"
   ]
  },
  {
   "cell_type": "markdown",
   "metadata": {},
   "source": [
    "# COMPARE\n",
    "\n",
    "in this section I compare it with return_sequence=False"
   ]
  },
  {
   "cell_type": "code",
   "execution_count": 30,
   "metadata": {},
   "outputs": [],
   "source": [
    "from tensorflow.data import Dataset\n",
    "\n",
    "seq_len = 18 # it's 1 hour and a half\n",
    "batch_size = 10\n",
    "\n",
    "train_ds = Dataset.from_tensor_slices(train)\n",
    "test_ds = Dataset.from_tensor_slices(test)\n",
    "\n",
    "test_seq = train_ds.batch(seq_len+1, drop_remainder=True)\n",
    "sequences = train_ds.batch(seq_len+1, drop_remainder=True)\n",
    "\n",
    "test_ds = test_seq.map(lambda x: (x[:-1], x[-1]))\n",
    "test_ds = test_ds.batch(batch_size, drop_remainder=True)\n",
    "ds = sequences.map(lambda x: (x[:-1], x[-1]))\n",
    "ds = ds.shuffle(10000).batch(batch_size, drop_remainder=True)"
   ]
  },
  {
   "cell_type": "code",
   "execution_count": 42,
   "metadata": {},
   "outputs": [
    {
     "name": "stdout",
     "output_type": "stream",
     "text": [
      "Model: \"sequential_14\"\n",
      "_________________________________________________________________\n",
      "Layer (type)                 Output Shape              Param #   \n",
      "=================================================================\n",
      "conv_lst_m2d_31 (ConvLSTM2D) (None, None, 30, 40, 20)  15200     \n",
      "_________________________________________________________________\n",
      "batch_normalization_30 (Batc (None, None, 30, 40, 20)  80        \n",
      "_________________________________________________________________\n",
      "conv_lst_m2d_32 (ConvLSTM2D) (None, 30, 40, 20)        28880     \n",
      "_________________________________________________________________\n",
      "batch_normalization_31 (Batc (None, 30, 40, 20)        80        \n",
      "_________________________________________________________________\n",
      "conv2d_2 (Conv2D)            (None, 30, 40, 1)         181       \n",
      "=================================================================\n",
      "Total params: 44,421\n",
      "Trainable params: 44,341\n",
      "Non-trainable params: 80\n",
      "_________________________________________________________________\n"
     ]
    }
   ],
   "source": [
    "from tensorflow.keras.models import Sequential\n",
    "\n",
    "model = Sequential([\n",
    "    tf.keras.layers.ConvLSTM2D(filters=20, kernel_size=(3,3), padding='same', input_shape=(None, 30, 40, 1), return_sequences=True),\n",
    "    tf.keras.layers.BatchNormalization(),\n",
    "    tf.keras.layers.ConvLSTM2D(filters=20, kernel_size=(3,3), padding='same', return_sequences=False),\n",
    "    tf.keras.layers.BatchNormalization(),\n",
    "    tf.keras.layers.Conv2D(filters=1, kernel_size=(3,3), padding='same')\n",
    "])\n",
    "\n",
    "model.compile(loss='mse', optimizer='adam')\n",
    "model.summary()"
   ]
  },
  {
   "cell_type": "code",
   "execution_count": null,
   "metadata": {},
   "outputs": [
    {
     "name": "stdout",
     "output_type": "stream",
     "text": [
      "Epoch 1/5\n",
      "78/78 [==============================] - 179s 2s/step - loss: 0.3572 - val_loss: 0.4628\n",
      "Epoch 2/5\n",
      "78/78 [==============================] - 176s 2s/step - loss: 0.2688 - val_loss: 0.4170\n",
      "Epoch 3/5\n",
      "78/78 [==============================] - 184s 2s/step - loss: 0.2645 - val_loss: 0.3651\n",
      "Epoch 4/5\n",
      "39/78 [==============>...............] - ETA: 1:07 - loss: 0.2755"
     ]
    }
   ],
   "source": [
    "model.fit(ds, epochs=5, validation_data=test_ds)"
   ]
  },
  {
   "cell_type": "code",
   "execution_count": null,
   "metadata": {},
   "outputs": [],
   "source": [
    "### THESE CODES ARE MEANT FOR TF1.14"
   ]
  },
  {
   "cell_type": "code",
   "execution_count": null,
   "metadata": {},
   "outputs": [],
   "source": [
    "from keras.models import Sequential\n",
    "from keras.layers.convolutional import Conv3D\n",
    "from keras.layers.convolutional_recurrent import ConvLSTM2D\n",
    "from keras.layers.normalization import BatchNormalization\n",
    "import numpy as np\n",
    "import pylab as plt\n",
    "\n",
    "# We create a layer which take as input movies of shape\n",
    "# (n_frames, width, height, channels) and returns a movie\n",
    "# of identical shape.\n",
    "\n",
    "with tf.device('/cpu:0'):\n",
    "    model = Sequential()\n",
    "    model.add(ConvLSTM2D(filters=40, kernel_size=(3, 3),\n",
    "                       input_shape=(None, 30, 40, 1),\n",
    "                       padding='same', return_sequences=True))\n",
    "    model.add(BatchNormalization())\n",
    "\n",
    "    model.add(ConvLSTM2D(filters=40, kernel_size=(3, 3),\n",
    "                       padding='same', return_sequences=True))\n",
    "    model.add(BatchNormalization())\n",
    "\n",
    "    model.add(ConvLSTM2D(filters=40, kernel_size=(3, 3),\n",
    "                       padding='same', return_sequences=True))\n",
    "    model.add(BatchNormalization())\n",
    "\n",
    "    model.add(ConvLSTM2D(filters=40, kernel_size=(3, 3),\n",
    "                       padding='same', return_sequences=True))\n",
    "    model.add(BatchNormalization())\n",
    "\n",
    "    model.add(Conv3D(filters=1, kernel_size=(3, 3, 3),\n",
    "                   activation='sigmoid',\n",
    "                   padding='same', data_format='channels_last'))\n",
    "    model.compile(loss='binary_crossentropy', optimizer='adadelta')\n",
    "\n",
    "model.summary()"
   ]
  },
  {
   "cell_type": "code",
   "execution_count": null,
   "metadata": {},
   "outputs": [],
   "source": [
    "print(raw_data.shape)\n",
    "seq_len = 18\n",
    "bs = 10\n",
    "\n",
    "remainder = raw_data.shape[0]%seq_len\n",
    "raw_data = raw_data[:raw_data.shape[0]-remainder,:]\n",
    "\n",
    "print(raw_data.shape)\n",
    "\n",
    "seq = np.array(np.split(raw_data, raw_data.shape[0]//seq_len))"
   ]
  },
  {
   "cell_type": "code",
   "execution_count": null,
   "metadata": {},
   "outputs": [],
   "source": [
    "input_data, target = seq[:,:-1, :], seq[:, 1:, :]\n",
    "print(input_data.shape, target.shape)\n"
   ]
  },
  {
   "cell_type": "code",
   "execution_count": null,
   "metadata": {},
   "outputs": [],
   "source": [
    "model.fit(input_data, target, batch_size=10, epochs=10, validation_split=0.05)"
   ]
  },
  {
   "cell_type": "code",
   "execution_count": null,
   "metadata": {},
   "outputs": [],
   "source": [
    "from tensorflow.data import Dataset\n",
    "\n",
    "seq_len = 18 # it's 1 hour and a half\n",
    "batch_size = 5\n",
    "\n",
    "ds = Dataset.from_tensor_slices(raw_data)\n",
    "sequences = ds.batch(seq_len+1, drop_remainder=True).shuffle(10000).batch(batch_size, drop_remainder=True)\n",
    "\n",
    "ds = sequences.map(lambda x: x[:,:-1])\n",
    "target = sequences.map(lambda x: x[:,1:])\n"
   ]
  },
  {
   "cell_type": "code",
   "execution_count": null,
   "metadata": {},
   "outputs": [],
   "source": [
    "ds, target"
   ]
  },
  {
   "cell_type": "code",
   "execution_count": null,
   "metadata": {},
   "outputs": [],
   "source": [
    "seq.fit(ds, target, steps_per_epoch=10)"
   ]
  }
 ],
 "metadata": {
  "kernelspec": {
   "display_name": "Python 3",
   "language": "python",
   "name": "python3"
  },
  "language_info": {
   "codemirror_mode": {
    "name": "ipython",
    "version": 3
   },
   "file_extension": ".py",
   "mimetype": "text/x-python",
   "name": "python",
   "nbconvert_exporter": "python",
   "pygments_lexer": "ipython3",
   "version": "3.6.8"
  }
 },
 "nbformat": 4,
 "nbformat_minor": 2
}
