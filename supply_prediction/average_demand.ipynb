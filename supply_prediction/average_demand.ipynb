{
 "cells": [
  {
   "cell_type": "code",
   "execution_count": 8,
   "metadata": {},
   "outputs": [
    {
     "name": "stdout",
     "output_type": "stream",
     "text": [
      "raw dataset shape: (52008, 20, 30, 1, 1)\n"
     ]
    }
   ],
   "source": [
    "import tensorflow as tf\n",
    "import numpy as np\n",
    "import pickle\n",
    "\n",
    "\n",
    "with open('../data/conv_lstm_sequence_data7.pc', 'rb') as f:\n",
    "    raw_data = pickle.load(f)\n",
    "raw_data = np.expand_dims(raw_data, axis=-1)\n",
    "print(\"raw dataset shape: {}\".format(raw_data.shape))\n",
    "\n",
    "\n",
    "raw_data = raw_data/2"
   ]
  },
  {
   "cell_type": "code",
   "execution_count": 9,
   "metadata": {},
   "outputs": [
    {
     "data": {
      "text/plain": [
       "87.0"
      ]
     },
     "execution_count": 9,
     "metadata": {},
     "output_type": "execute_result"
    }
   ],
   "source": [
    "\n",
    "# idx = 266\n",
    "\n",
    "# mean_demand = (test[idx-3] + test[idx-2] + test[idx-1]) / 3\n",
    "# mean_demand.shape\n",
    "\n",
    "# mse = ((mean_demand - test[idx])**2).mean()\n",
    "# print(mse)\n",
    "\n",
    "np.max(raw_data)"
   ]
  },
  {
   "cell_type": "code",
   "execution_count": 19,
   "metadata": {},
   "outputs": [
    {
     "name": "stdout",
     "output_type": "stream",
     "text": [
      "0.8059467794886018\n"
     ]
    }
   ],
   "source": [
    "test = raw_data[48000:]\n",
    "\n",
    "mses = []\n",
    "idx = 3\n",
    "for demand_snapshot in test[idx:]:\n",
    "    predicted = (test[idx-3] + test[idx-2] + test[idx-1]) / 3\n",
    "    \n",
    "    mses.append((predicted - test[idx])**2)\n",
    "    \n",
    "    idx += 1\n",
    "\n",
    "print(np.mean(np.array(mses)))"
   ]
  },
  {
   "cell_type": "code",
   "execution_count": 12,
   "metadata": {},
   "outputs": [
    {
     "name": "stdout",
     "output_type": "stream",
     "text": [
      "0.28453547312836924\n"
     ]
    }
   ],
   "source": [
    "test = raw_data[23863:]\n",
    "\n",
    "maes = []\n",
    "idx = 3\n",
    "for demand_snapshot in test[idx:]:\n",
    "    predicted = (test[idx-3] + test[idx-2] + test[idx-1]) / 3\n",
    "    \n",
    "    maes.append(np.abs(predicted - test[idx]))\n",
    "    \n",
    "    idx += 1\n",
    "\n",
    "print(np.mean(np.array(maes)))"
   ]
  },
  {
   "cell_type": "code",
   "execution_count": null,
   "metadata": {},
   "outputs": [],
   "source": []
  }
 ],
 "metadata": {
  "kernelspec": {
   "display_name": "Python 3",
   "language": "python",
   "name": "python3"
  },
  "language_info": {
   "codemirror_mode": {
    "name": "ipython",
    "version": 3
   },
   "file_extension": ".py",
   "mimetype": "text/x-python",
   "name": "python",
   "nbconvert_exporter": "python",
   "pygments_lexer": "ipython3",
   "version": "3.6.8"
  }
 },
 "nbformat": 4,
 "nbformat_minor": 2
}
