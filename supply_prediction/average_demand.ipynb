{
 "cells": [
  {
   "cell_type": "code",
   "execution_count": 1,
   "metadata": {},
   "outputs": [
    {
     "name": "stdout",
     "output_type": "stream",
     "text": [
      "raw dataset shape: (17006, 30, 40, 1)\n",
      "train, test shapes: (15000, 30, 40, 1)-(2006, 30, 40, 1)\n"
     ]
    }
   ],
   "source": [
    "import tensorflow as tf\n",
    "import numpy as np\n",
    "import pickle\n",
    "\n",
    "with open('../data/conv_lstm_sequence_data.pc', 'rb') as f:\n",
    "    raw_data = pickle.load(f)\n",
    "raw_data = np.expand_dims(raw_data, axis=-1)\n",
    "print(\"raw dataset shape: {}\".format(raw_data.shape))\n",
    "\n"
   ]
  },
  {
   "cell_type": "code",
   "execution_count": 11,
   "metadata": {},
   "outputs": [
    {
     "name": "stdout",
     "output_type": "stream",
     "text": [
      "0.5419444444444445\n"
     ]
    }
   ],
   "source": [
    "test[10].shape\n",
    "\n",
    "mean_demand = (test[8] + test[7] + test[9]) / 3\n",
    "mean_demand.shape\n",
    "\n",
    "mse = ((mean_demand - test[10])**2).mean()\n",
    "print(mse)"
   ]
  },
  {
   "cell_type": "code",
   "execution_count": 12,
   "metadata": {},
   "outputs": [
    {
     "name": "stdout",
     "output_type": "stream",
     "text": [
      "0.5311111111111111\n"
     ]
    }
   ],
   "source": [
    "mses = []\n",
    "idx = 3\n",
    "for demand_snapshot in test[idx:]:\n",
    "    predicted = (test[idx-3] + test[idx-2] + test[idx-1]) / 3\n",
    "    \n",
    "    mses.append((predicted - test[idx])**2)\n",
    "\n",
    "print(np.mean(np.array(mses)))"
   ]
  },
  {
   "cell_type": "code",
   "execution_count": null,
   "metadata": {},
   "outputs": [],
   "source": []
  }
 ],
 "metadata": {
  "kernelspec": {
   "display_name": "Python 3",
   "language": "python",
   "name": "python3"
  },
  "language_info": {
   "codemirror_mode": {
    "name": "ipython",
    "version": 3
   },
   "file_extension": ".py",
   "mimetype": "text/x-python",
   "name": "python",
   "nbconvert_exporter": "python",
   "pygments_lexer": "ipython3",
   "version": "3.6.8"
  }
 },
 "nbformat": 4,
 "nbformat_minor": 2
}
